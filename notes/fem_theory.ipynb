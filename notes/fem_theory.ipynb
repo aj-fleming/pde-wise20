{
 "cells": [
  {
   "cell_type": "markdown",
   "id": "banned-forward",
   "metadata": {},
   "source": [
    "# PDE Solution Theory\n",
    "\n",
    "To extend the concept of finite-difference solutions and create numerical methods that are applicable to irregular domains, we must extend some of our solution concepts to include more types of functions."
   ]
  },
  {
   "cell_type": "markdown",
   "id": "italic-description",
   "metadata": {},
   "source": [
    "<a id=\"lp_spaces\"></a>\n",
    "## Lebesgue Spaces\n",
    "We would like to extend the list of function spaces we regularly work with in order to better understand solutions to PDEs. We are already accustomed to:\n",
    "- $C^k(\\Omega)$, k-times differentiable functions $f:\\Omega\\to\\mathbb{R}$\n",
    "- $C^\\infty(\\Omega)$, infinitely differentiable functions\n",
    "- $C^\\infty_0(\\Omega)$, infinitely differentiable functions with compact support $K\\subset\\Omega$,i.e. they are zero-valued outside of a closed subset of $\\Omega$\n",
    "\n",
    "To this list, we will add:\n",
    "- $L^p(\\Omega)$, functions $f:\\Omega\\to\\mathbb{R}$ that are \"p-integrable\" over $\\Omega$, i.e. $\\int_\\Omega|f(x)|^p\\:dx\\lt\\infty$\n",
    "- $L^\\infty(\\Omega)$, functions $f:\\Omega\\to\\mathbb{R}$ with $|f(x)|\\lt\\infty$\n",
    "\n",
    "<a id=\"lp_norms\"></a>\n",
    "### Lebesgue Norms\n",
    "We can equip the function spaces $L^p(\\Omega)$ with the norm $$\\|f\\|_p = \\left(\\int_\\Omega|f(x)|^p\\:dx\\right)^{1/p}$$\n",
    "\n",
    "We also note that: $\\|f\\|_\\infty =\\inf\\{C\\geq 0: |f(x)|\\leq C\\}$. \n",
    "\n",
    "## Useful Properties of Lebesgue Spaces\n",
    "\n",
    "The space $L^2(\\Omega)$, equipped with the norm $\\|\\cdot\\|_2$, is complete. This means that the limit of any Cauchy sequence in $L^2$ is also in $L^2$. The L^2 space also has the scalar product $$\\langle f,g \\rangle = \\int_\\Omega f(x)g(x)\\:dx$$. This inner product has the property $|\\langle f,g\\rangle|\\leq\\|f\\|_2\\cdot\\|g\\|_2$. Consequently, $L^2$ is a [Hilbert space](https://en.wikipedia.org/wiki/Hilbert_space). Complete Hilbert Spaces are also called Banach spaces."
   ]
  },
  {
   "cell_type": "markdown",
   "id": "brief-landscape",
   "metadata": {},
   "source": [
    "## Weak Derivatives\n",
    "### Test Functions"
   ]
  },
  {
   "cell_type": "markdown",
   "id": "average-headset",
   "metadata": {},
   "source": [
    "## Sobolev Spaces\n",
    "### Domain-Dependent Properties of Sobolev Spaces"
   ]
  },
  {
   "cell_type": "markdown",
   "id": "portuguese-marketplace",
   "metadata": {},
   "source": [
    "## Traces"
   ]
  },
  {
   "cell_type": "markdown",
   "id": "welcome-merit",
   "metadata": {},
   "source": [
    "# Weak Solution Theory\n",
    "## Variational Formulation\n",
    "## Theorem of Lax-Milgram\n",
    "## Well-Posedness of the Poisson Problem\n",
    "## The Neumann Problem\n",
    "## The Minimization Problem"
   ]
  },
  {
   "cell_type": "markdown",
   "id": "juvenile-career",
   "metadata": {},
   "source": [
    "# Ritz-Galerkin Methods\n",
    "## Finite-Dimensional Subspaces\n",
    "## Optimal Accuracy"
   ]
  },
  {
   "cell_type": "code",
   "execution_count": null,
   "id": "rural-republican",
   "metadata": {},
   "outputs": [],
   "source": []
  },
  {
   "cell_type": "code",
   "execution_count": null,
   "id": "existing-georgia",
   "metadata": {},
   "outputs": [],
   "source": []
  }
 ],
 "metadata": {
  "kernelspec": {
   "display_name": "Python 3",
   "language": "python",
   "name": "python3"
  },
  "language_info": {
   "codemirror_mode": {
    "name": "ipython",
    "version": 3
   },
   "file_extension": ".py",
   "mimetype": "text/x-python",
   "name": "python",
   "nbconvert_exporter": "python",
   "pygments_lexer": "ipython3",
   "version": "3.8.5"
  }
 },
 "nbformat": 4,
 "nbformat_minor": 5
}
