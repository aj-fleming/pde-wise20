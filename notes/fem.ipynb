{
 "cells": [
  {
   "cell_type": "markdown",
   "id": "artificial-seventh",
   "metadata": {},
   "source": [
    "# The Finite Element Method\n"
   ]
  },
  {
   "cell_type": "markdown",
   "id": "surprising-spare",
   "metadata": {},
   "source": [
    "# Example 1: Linear Splines"
   ]
  },
  {
   "cell_type": "markdown",
   "id": "failing-investor",
   "metadata": {},
   "source": [
    "# Example 2: n-degree Splines"
   ]
  },
  {
   "cell_type": "markdown",
   "id": "global-ireland",
   "metadata": {},
   "source": [
    "# Triangulation of 2D Domains"
   ]
  },
  {
   "cell_type": "markdown",
   "id": "everyday-issue",
   "metadata": {},
   "source": [
    "# Example 3: The Reference Element"
   ]
  },
  {
   "cell_type": "markdown",
   "id": "younger-novel",
   "metadata": {},
   "source": [
    "# Example 4: GMSH\n",
    "`gmsh` is a tool used to create meshes for finite element solvers. It has complete, if rather opaque documentation [here](https://gmsh.info/).\n",
    "\n",
    "It can be installed locally with the python package manager `pip`:\n",
    "\n",
    "```pip3 install gmsh```\n"
   ]
  },
  {
   "cell_type": "code",
   "execution_count": null,
   "id": "lesbian-uniform",
   "metadata": {},
   "outputs": [],
   "source": []
  }
 ],
 "metadata": {
  "kernelspec": {
   "display_name": "Python 3",
   "language": "python",
   "name": "python3"
  },
  "language_info": {
   "codemirror_mode": {
    "name": "ipython",
    "version": 3
   },
   "file_extension": ".py",
   "mimetype": "text/x-python",
   "name": "python",
   "nbconvert_exporter": "python",
   "pygments_lexer": "ipython3",
   "version": "3.8.5"
  }
 },
 "nbformat": 4,
 "nbformat_minor": 5
}
