{
 "cells": [
  {
   "cell_type": "code",
   "execution_count": 1,
   "metadata": {},
   "outputs": [],
   "source": [
    "import matplotlib.pyplot as plt\n",
    "from matplotlib.colors import Normalize\n",
    "from matplotlib import rc, animation, cm\n",
    "import numpy as np\n",
    "from scipy.integrate import quad\n",
    "from IPython.display import HTML, Image\n",
    "\n",
    "#change the color/style parameters to your liking\n",
    "rc(\"figure\",figsize=(4,4))"
   ]
  },
  {
   "cell_type": "markdown",
   "metadata": {},
   "source": [
    "# Scalar Conservation Laws\n",
    "Unbounded, one-dimensional conservation laws are a good model for _flow problems_. Expressed in differential form, a scalar-valued conservation law with intial data $u_0$ $$\\begin{align*}\\partial_tu+\\partial_xf(u) &= 0\\label{eq:cauchy}\\tag{1}\\\\u(x,0)&=u_0(x)\\end{align*}$$ has a solution $$u:\\mathbb{R}\\times\\mathbb{R}^+\\to\\mathbb{R},\\;\\;\\;(x,t)\\to u(x,t)$$\n",
    "\n",
    "Conservation laws can be used to model the movement of conserved quantities, such as the density of a gas in a tube, traffic on a highway, diffusion of a chemical in solution, etc. \n",
    "\n",
    "They can also be extended to systems of conservation laws, such as Euler's gas equations, which model the conservation of a gas's mass, momentum, and energy.\n",
    "\n",
    "## Method of Characteristics\n",
    "\n",
    "The first method for analyzing conservation laws involves finding curves in spacetime along which the conservation law can be reduced to an ODE. \n",
    "\n",
    "### General Strategy\n",
    "For the general conservation law $$\\begin{align*}\\partial_ta(u) + \\partial_xb(u) + c(u) &= 0\\label{eq:gen_cons}\\tag{2}\\\\u(x,0) &= u_0(x)\\end{align*}$$, we would like to change coordinates from $(x,t)$ to $(x_0, s)$. We will fix the new $x_0$ at $t=0$ and allow $s$ to vary. To find characteristic curves for ($\\ref{eq:gen_cons}$), we can set $$\\begin{align*}\\frac{dt}{ds} &= a'(u)\\label{eq:char_t}\\tag{3a}\\\\\\frac{dx}{ds} &= b'(u)\\label{eq:char_x}\\tag{3b}\\end{align*}$$\n",
    "in order to find that $$\\begin{align*} \\frac{du}{ds} = \\frac{\\partial u}{\\partial t}\\frac{\\partial t}{\\partial s} + \\frac{\\partial u}{\\partial x}\\frac{\\partial x}{\\partial s} &= a'(u)\\partial_tu+b'(u)\\partial_xu\\\\\\frac{du}{ds} + c(u) = 0\\label{eq:char_ode}\\tag{4}\\end{align*}$$\n",
    "\n",
    "We will solve ($\\ref{eq:char_t}$) and ($\\ref{eq:char_x}$) and find the constants of integration by setting $x(0)=x_0$ and $t(0) = 0$. Then we will solve ($\\ref{eq:char_ode}$) with the initial condition $u(0) = u_0(x_0)$. Finally, with our solution $u(x_0, s)$, we will solve for $s$ and $x_0$ in terms of $x$ and $t$ to find the solution to our original PDE.\n",
    "\n",
    "### Application to Scalar Conservation Laws\n",
    "The scalar conservation law proposed in ($\\ref{eq:cauchy}$) is a special case of the general conservation law in ($\\ref{eq:gen_cons}$). We apply the steps laid out in the previous section and find that the equations of characteristc curves are given by $$x(t) = x_0 + f'(u)t$$ and that the solution to ($\\ref{eq:char_ode}$) is $$u(t) = u_0(x_0)$$\n",
    "Finally, by solving for $x_0$, we find that $$u(x, t) = u_0(x-f'(u)t)$$\n",
    "\n",
    "We can demonstrate this simple solution graphically:\n",
    "\n",
    "<img src=\"simple_advection_figure.png\">\n",
    "\n",
    "The orange wave is simply the initial condition moved to the right with the speed $f'(u)$. \n",
    "\n",
    "### Characteristic Plots\n",
    "For the scalar conservation law ($\\ref{eq:cauchy}$) with flux function $f(u) = au$, the characteristic curves $x(t)$ \"transport\" the initial solution to the right with speed $a$. \n",
    "\n",
    "<img src=\"simple_characteristic_figure.png\">\n",
    "\n",
    "---"
   ]
  },
  {
   "cell_type": "markdown",
   "metadata": {},
   "source": [
    "## Nonlinear Conservation Laws\n",
    "In general, the solutions to conservation laws allow the generation of discontinuities. These _shock waves_ occur when the solution to the characteristic equation $x = x_0 + tf'(u_0(x_0))$ has more than one solution for $x_0$. \n",
    "\n",
    "### Burger's Equation\n",
    "$$\\begin{align*} \\partial_tu + \\partial_x(\\frac{1}{2}u^2) &= 0\\\\\\partial_tu + u\\partial_xu &= 0\\label{eq:burgers}\\tag{5}\\end{align*}$$\n",
    "Equation $\\ref{eq:burgers}$ is known as Burger's equation. "
   ]
  },
  {
   "cell_type": "code",
   "execution_count": null,
   "metadata": {},
   "outputs": [],
   "source": []
  }
 ],
 "metadata": {
  "kernelspec": {
   "display_name": "Python 3",
   "language": "python",
   "name": "python3"
  },
  "language_info": {
   "codemirror_mode": {
    "name": "ipython",
    "version": 3
   },
   "file_extension": ".py",
   "mimetype": "text/x-python",
   "name": "python",
   "nbconvert_exporter": "python",
   "pygments_lexer": "ipython3",
   "version": "3.8.5"
  }
 },
 "nbformat": 4,
 "nbformat_minor": 4
}
